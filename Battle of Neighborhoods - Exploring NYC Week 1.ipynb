{
    "cells": [
        {
            "metadata": {},
            "cell_type": "markdown",
            "source": "# Business Problem"
        },
        {
            "metadata": {},
            "cell_type": "markdown",
            "source": "The estate department of the government of Colombia is looking for the best location for its new consulate to serve Colombian nationals residing in the city of New York. In order to solve this problem, I will explore all the boroughs of NYC to find the areas most populated with Colombian people. I will do this by finding out which borough has the larger number of Colombian restaurants this will give me the right indication where the Colombian population resides within NYC and therefore where is the best location for the new Colombian consulate, which needs to be close to the people that it will serve."
        },
        {
            "metadata": {},
            "cell_type": "markdown",
            "source": "# Data"
        },
        {
            "metadata": {},
            "cell_type": "markdown",
            "source": "To solve this problem I will use the dataset provided in the lab https://cocl.us/new_york_dataset which has the necessary information to segment the citie's neighborhoods. Also I will use the Fousquare API to explore the venues."
        }
    ],
    "metadata": {
        "kernelspec": {
            "name": "python3",
            "display_name": "Python 3.6",
            "language": "python"
        },
        "language_info": {
            "name": "python",
            "version": "3.6.9",
            "mimetype": "text/x-python",
            "codemirror_mode": {
                "name": "ipython",
                "version": 3
            },
            "pygments_lexer": "ipython3",
            "nbconvert_exporter": "python",
            "file_extension": ".py"
        }
    },
    "nbformat": 4,
    "nbformat_minor": 2
}