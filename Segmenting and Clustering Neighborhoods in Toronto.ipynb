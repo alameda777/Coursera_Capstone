{
    "cells": [
        {
            "cell_type": "markdown",
            "metadata": {
                "collapsed": true
            },
            "source": "Build the code to scrape the following Wikipedia page, https://en.wikipedia.org/wiki/List_of_postal_codes_of_Canada:_M, in order to obtain the data that is in the table of postal codes and to transform the data into a pandas dataframe like the one shown on the link below:\n\nhttps://d3c33hcgiwev3.cloudfront.net/imageAssetProxy.v1/7JXaz3NNEeiMwApe4i-fLg_40e690ae0e927abda2d4bde7d94ed133_Screen-Shot-2018-06-18-at-7.17.57-PM.png?expiry=1586649600000&hmac=26XuOyRvtw7utd7MkXAe6xKFo0_FvEh3AjroOrWDcgE"
        },
        {
            "cell_type": "code",
            "execution_count": 1,
            "metadata": {},
            "outputs": [],
            "source": "from bs4 import BeautifulSoup\nimport pandas as pd\nimport requests"
        },
        {
            "cell_type": "code",
            "execution_count": 9,
            "metadata": {},
            "outputs": [],
            "source": "html = requests.get(\"https://en.wikipedia.org/wiki/List_of_postal_codes_of_Canada:_M\")\nsoup=BeautifulSoup(html.content)\ntable=soup.find('table')\nrows=table.findAll('tr')\ntable_data={}\nix=0\nfor r in rows:\n    row_data=r.findAll('td')\n    if row_data:\n        #assume that there are only 3 columns\n        table_data.update({\n            ix:[\n                row_data[0].text.replace(\"\\n\",\"\"), \n                row_data[1].text.replace(\"\\n\",\"\"), \n                row_data[2].text.replace(\"/\",\",\"),\n                \n            ]\n        })\n        ix+=1"
        },
        {
            "cell_type": "code",
            "execution_count": 10,
            "metadata": {},
            "outputs": [],
            "source": "columns=['Postal Code', 'Borough', 'Neighborhoods']"
        },
        {
            "cell_type": "code",
            "execution_count": 11,
            "metadata": {},
            "outputs": [],
            "source": "df = pd.DataFrame.from_dict(data=table_data, orient='index', columns=columns)"
        },
        {
            "cell_type": "code",
            "execution_count": 12,
            "metadata": {},
            "outputs": [
                {
                    "data": {
                        "text/html": "<div>\n<style scoped>\n    .dataframe tbody tr th:only-of-type {\n        vertical-align: middle;\n    }\n\n    .dataframe tbody tr th {\n        vertical-align: top;\n    }\n\n    .dataframe thead th {\n        text-align: right;\n    }\n</style>\n<table border=\"1\" class=\"dataframe\">\n  <thead>\n    <tr style=\"text-align: right;\">\n      <th></th>\n      <th>Postal Code</th>\n      <th>Borough</th>\n      <th>Neighborhoods</th>\n    </tr>\n  </thead>\n  <tbody>\n    <tr>\n      <th>0</th>\n      <td>M1A</td>\n      <td>Not assigned</td>\n      <td>\\n</td>\n    </tr>\n    <tr>\n      <th>1</th>\n      <td>M2A</td>\n      <td>Not assigned</td>\n      <td>\\n</td>\n    </tr>\n    <tr>\n      <th>2</th>\n      <td>M3A</td>\n      <td>North York</td>\n      <td>Parkwoods\\n</td>\n    </tr>\n    <tr>\n      <th>3</th>\n      <td>M4A</td>\n      <td>North York</td>\n      <td>Victoria Village\\n</td>\n    </tr>\n    <tr>\n      <th>4</th>\n      <td>M5A</td>\n      <td>Downtown Toronto</td>\n      <td>Regent Park , Harbourfront\\n</td>\n    </tr>\n  </tbody>\n</table>\n</div>",
                        "text/plain": "  Postal Code           Borough                 Neighborhoods\n0         M1A      Not assigned                            \\n\n1         M2A      Not assigned                            \\n\n2         M3A        North York                   Parkwoods\\n\n3         M4A        North York            Victoria Village\\n\n4         M5A  Downtown Toronto  Regent Park , Harbourfront\\n"
                    },
                    "execution_count": 12,
                    "metadata": {},
                    "output_type": "execute_result"
                }
            ],
            "source": "df.head()"
        },
        {
            "cell_type": "code",
            "execution_count": 13,
            "metadata": {},
            "outputs": [],
            "source": "new_data={}\nfor index, row in df.iterrows():\n    if row['Borough']=='Not assigned':\n        continue\n    \n    if row['Neighborhoods']=='Not assigned':\n        row['Neighborhoods']=row['Borough']\n        \n    if row['Postal Code'] in new_data.keys():\n        if row['Neighborhoods'] not in new_data[row['Postal Code']][2]:\n            row['Neighborhoods'] = new_data[row['Postal Code']][2] + \" , \" + row['Neighborhoods']\n        \n    new_data.update({\n        row['Postal Code']: [row[0],row[1],row[2]]\n    })\n    \n# steps to create dictionary for the DataFrame\nnew_data_new={}\nxcount=0\nfor i in new_data.keys():\n    new_data_new.update({\n        xcount: new_data[i]\n    })\n    xcount+=1\nnew_df=pd.DataFrame.from_dict(data=new_data_new, orient='index', columns=columns)"
        },
        {
            "cell_type": "code",
            "execution_count": 14,
            "metadata": {},
            "outputs": [
                {
                    "data": {
                        "text/html": "<div>\n<style scoped>\n    .dataframe tbody tr th:only-of-type {\n        vertical-align: middle;\n    }\n\n    .dataframe tbody tr th {\n        vertical-align: top;\n    }\n\n    .dataframe thead th {\n        text-align: right;\n    }\n</style>\n<table border=\"1\" class=\"dataframe\">\n  <thead>\n    <tr style=\"text-align: right;\">\n      <th></th>\n      <th>Postal Code</th>\n      <th>Borough</th>\n      <th>Neighborhoods</th>\n    </tr>\n  </thead>\n  <tbody>\n    <tr>\n      <th>0</th>\n      <td>M3A</td>\n      <td>North York</td>\n      <td>Parkwoods\\n</td>\n    </tr>\n    <tr>\n      <th>1</th>\n      <td>M4A</td>\n      <td>North York</td>\n      <td>Victoria Village\\n</td>\n    </tr>\n    <tr>\n      <th>2</th>\n      <td>M5A</td>\n      <td>Downtown Toronto</td>\n      <td>Regent Park , Harbourfront\\n</td>\n    </tr>\n    <tr>\n      <th>3</th>\n      <td>M6A</td>\n      <td>North York</td>\n      <td>Lawrence Manor , Lawrence Heights\\n</td>\n    </tr>\n    <tr>\n      <th>4</th>\n      <td>M7A</td>\n      <td>Downtown Toronto</td>\n      <td>Queen's Park , Ontario Provincial Government\\n</td>\n    </tr>\n  </tbody>\n</table>\n</div>",
                        "text/plain": "  Postal Code           Borough  \\\n0         M3A        North York   \n1         M4A        North York   \n2         M5A  Downtown Toronto   \n3         M6A        North York   \n4         M7A  Downtown Toronto   \n\n                                    Neighborhoods  \n0                                     Parkwoods\\n  \n1                              Victoria Village\\n  \n2                    Regent Park , Harbourfront\\n  \n3             Lawrence Manor , Lawrence Heights\\n  \n4  Queen's Park , Ontario Provincial Government\\n  "
                    },
                    "execution_count": 14,
                    "metadata": {},
                    "output_type": "execute_result"
                }
            ],
            "source": "new_df.head()"
        },
        {
            "cell_type": "code",
            "execution_count": 15,
            "metadata": {},
            "outputs": [
                {
                    "data": {
                        "text/plain": "(103, 3)"
                    },
                    "execution_count": 15,
                    "metadata": {},
                    "output_type": "execute_result"
                }
            ],
            "source": "new_df.shape"
        },
        {
            "cell_type": "code",
            "execution_count": 17,
            "metadata": {},
            "outputs": [],
            "source": "latlng_coords=pd.read_csv('https://cocl.us/Geospatial_data/Geospatial_Coordinates.csv')"
        },
        {
            "cell_type": "code",
            "execution_count": 19,
            "metadata": {},
            "outputs": [
                {
                    "data": {
                        "text/plain": "(103, 3)"
                    },
                    "execution_count": 19,
                    "metadata": {},
                    "output_type": "execute_result"
                }
            ],
            "source": "latlng_coords.shape"
        },
        {
            "cell_type": "code",
            "execution_count": 20,
            "metadata": {},
            "outputs": [],
            "source": "combined_df=pd.merge(new_df,latlng_coords,on='Postal Code')"
        },
        {
            "cell_type": "code",
            "execution_count": 21,
            "metadata": {},
            "outputs": [
                {
                    "data": {
                        "text/html": "<div>\n<style scoped>\n    .dataframe tbody tr th:only-of-type {\n        vertical-align: middle;\n    }\n\n    .dataframe tbody tr th {\n        vertical-align: top;\n    }\n\n    .dataframe thead th {\n        text-align: right;\n    }\n</style>\n<table border=\"1\" class=\"dataframe\">\n  <thead>\n    <tr style=\"text-align: right;\">\n      <th></th>\n      <th>Postal Code</th>\n      <th>Borough</th>\n      <th>Neighborhoods</th>\n      <th>Latitude</th>\n      <th>Longitude</th>\n    </tr>\n  </thead>\n  <tbody>\n    <tr>\n      <th>0</th>\n      <td>M3A</td>\n      <td>North York</td>\n      <td>Parkwoods\\n</td>\n      <td>43.753259</td>\n      <td>-79.329656</td>\n    </tr>\n    <tr>\n      <th>1</th>\n      <td>M4A</td>\n      <td>North York</td>\n      <td>Victoria Village\\n</td>\n      <td>43.725882</td>\n      <td>-79.315572</td>\n    </tr>\n    <tr>\n      <th>2</th>\n      <td>M5A</td>\n      <td>Downtown Toronto</td>\n      <td>Regent Park , Harbourfront\\n</td>\n      <td>43.654260</td>\n      <td>-79.360636</td>\n    </tr>\n    <tr>\n      <th>3</th>\n      <td>M6A</td>\n      <td>North York</td>\n      <td>Lawrence Manor , Lawrence Heights\\n</td>\n      <td>43.718518</td>\n      <td>-79.464763</td>\n    </tr>\n    <tr>\n      <th>4</th>\n      <td>M7A</td>\n      <td>Downtown Toronto</td>\n      <td>Queen's Park , Ontario Provincial Government\\n</td>\n      <td>43.662301</td>\n      <td>-79.389494</td>\n    </tr>\n  </tbody>\n</table>\n</div>",
                        "text/plain": "  Postal Code           Borough  \\\n0         M3A        North York   \n1         M4A        North York   \n2         M5A  Downtown Toronto   \n3         M6A        North York   \n4         M7A  Downtown Toronto   \n\n                                    Neighborhoods   Latitude  Longitude  \n0                                     Parkwoods\\n  43.753259 -79.329656  \n1                              Victoria Village\\n  43.725882 -79.315572  \n2                    Regent Park , Harbourfront\\n  43.654260 -79.360636  \n3             Lawrence Manor , Lawrence Heights\\n  43.718518 -79.464763  \n4  Queen's Park , Ontario Provincial Government\\n  43.662301 -79.389494  "
                    },
                    "execution_count": 21,
                    "metadata": {},
                    "output_type": "execute_result"
                }
            ],
            "source": "combined_df.head()"
        },
        {
            "cell_type": "code",
            "execution_count": 22,
            "metadata": {},
            "outputs": [
                {
                    "data": {
                        "text/plain": "0                                            Parkwoods\\n\n1                                     Victoria Village\\n\n2                           Regent Park , Harbourfront\\n\n3                    Lawrence Manor , Lawrence Heights\\n\n4         Queen's Park , Ontario Provincial Government\\n\n5                                     Islington Avenue\\n\n6                                      Malvern , Rouge\\n\n7                                            Don Mills\\n\n8                     Parkview Hill , Woodbine Gardens\\n\n9                             Garden District, Ryerson\\n\n10                                           Glencairn\\n\n11     West Deane Park , Princess Gardens , Martin Gr...\n12            Rouge Hill , Port Union , Highland Creek\\n\n13                                           Don Mills\\n\n14                                    Woodbine Heights\\n\n15                                      St. James Town\\n\n16                                  Humewood-Cedarvale\\n\n17     Eringate , Bloordale Gardens , Old Burnhamthor...\n18                 Guildwood , Morningside , West Hill\\n\n19                                         The Beaches\\n\n20                                         Berczy Park\\n\n21                                 Caledonia-Fairbanks\\n\n22                                              Woburn\\n\n23                                             Leaside\\n\n24                                  Central Bay Street\\n\n25                                            Christie\\n\n26                                           Cedarbrae\\n\n27                                   Hillcrest Village\\n\n28     Bathurst Manor , Wilson Heights , Downsview No...\n29                                    Thorncliffe Park\\n\n                             ...                        \n73                                  North Toronto West\\n\n74               The Annex , North Midtown , Yorkville\\n\n75                             Parkdale , Roncesvalles\\n\n76               Canada Post Gateway Processing Centre\\n\n77     Kingsview Village , St. Phillips , Martin Grov...\n78                                           Agincourt\\n\n79                                          Davisville\\n\n80                     University of Toronto , Harbord\\n\n81                                 Runnymede , Swansea\\n\n82           Clarks Corners , Tam O'Shanter , Sullivan\\n\n83                        Moore Park , Summerhill East\\n\n84         Kensington Market , Chinatown , Grange Park\\n\n85     Milliken , Agincourt North , Steeles East , L'...\n86     Summerhill West , Rathnelly , South Hill , For...\n87     CN Tower , King and Spadina , Railway Lands , ...\n88      New Toronto , Mimico South , Humber Bay Shores\\n\n89     South Steeles , Silverstone , Humbergate , Jam...\n90                      Steeles West , L'Amoreaux West\\n\n91                                            Rosedale\\n\n92                                      Stn A PO Boxes\\n\n93                             Alderwood , Long Branch\\n\n94                                           Northwest\\n\n95                                         Upper Rouge\\n\n96                        St. James Town , Cabbagetown\\n\n97             First Canadian Place , Underground city\\n\n98     The Kingsway , Montgomery Road  , Old Mill Nor...\n99                                Church and Wellesley\\n\n100              Business reply mail Processing CentrE\\n\n101    Old Mill South , King's Mill Park , Sunnylea ,...\n102    Mimico NW , The Queensway West , South of Bloo...\nName: Neighborhoods, Length: 103, dtype: object"
                    },
                    "execution_count": 22,
                    "metadata": {},
                    "output_type": "execute_result"
                }
            ],
            "source": "combined_df['Neighborhoods']"
        },
        {
            "cell_type": "code",
            "execution_count": null,
            "metadata": {},
            "outputs": [],
            "source": ""
        }
    ],
    "metadata": {
        "kernelspec": {
            "display_name": "Python 3.6",
            "language": "python",
            "name": "python3"
        },
        "language_info": {
            "codemirror_mode": {
                "name": "ipython",
                "version": 3
            },
            "file_extension": ".py",
            "mimetype": "text/x-python",
            "name": "python",
            "nbconvert_exporter": "python",
            "pygments_lexer": "ipython3",
            "version": "3.6.9"
        }
    },
    "nbformat": 4,
    "nbformat_minor": 1
}